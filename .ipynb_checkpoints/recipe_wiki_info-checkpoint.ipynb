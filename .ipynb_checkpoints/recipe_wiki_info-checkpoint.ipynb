{
 "cells": [
  {
   "cell_type": "code",
   "execution_count": 77,
   "metadata": {},
   "outputs": [],
   "source": [
    "import requests, re\n",
    "from pprint import pprint\n",
    "from bs4 import BeautifulSoup"
   ]
  },
  {
   "cell_type": "markdown",
   "metadata": {},
   "source": [
    "## use Google search to get Wikipedia page title"
   ]
  },
  {
   "cell_type": "code",
   "execution_count": 145,
   "metadata": {},
   "outputs": [
    {
     "name": "stdout",
     "output_type": "stream",
     "text": [
      "final query Open-source_software\n"
     ]
    }
   ],
   "source": [
    "query = 'google do you know about open source?'\n",
    "payload = {'q': query + ' wiki', \"Accept-Language\": \"en-US,en;q=0.5\", 'lr': 'lang_'}\n",
    "r = requests.get('https://www.google.co.uk/search', params=payload)\n",
    "soup = BeautifulSoup(r.text, 'html5lib')\n",
    "\n",
    "cleaner = re.compile('<.*?>')\n",
    "\n",
    "for url in soup.findAll(\"cite\", {\"class\": \"\"}):\n",
    "    cleantext = re.sub(cleaner, '', str(url))\n",
    "    if 'https://en.wikipedia.org/wiki/' in cleantext:\n",
    "        break\n",
    "\n",
    "wiki_query = cleantext.split('/')[-1]\n",
    "print('final query', wiki_query)"
   ]
  },
  {
   "cell_type": "markdown",
   "metadata": {},
   "source": [
    "## get Wikipedia extract via Wiki API"
   ]
  },
  {
   "cell_type": "code",
   "execution_count": 146,
   "metadata": {},
   "outputs": [
    {
     "name": "stdout",
     "output_type": "stream",
     "text": [
      "<Response [200]>\n"
     ]
    }
   ],
   "source": [
    "query = wiki_query\n",
    "payload = {'action': 'query', 'titles': query, 'prop': 'extracts', 'exintro': '', 'format': 'json'}\n",
    "r = requests.get('https://en.wikipedia.org/w/api.php', params=payload)\n",
    "print(r)"
   ]
  },
  {
   "cell_type": "code",
   "execution_count": 147,
   "metadata": {},
   "outputs": [
    {
     "name": "stdout",
     "output_type": "stream",
     "text": [
      "Open-source software (OSS) is computer software with its source code made available with a license in which the copyright holder provides the rights to study, change, and distribute the software to anyone and for any purpose. Open-source software may be developed in a collaborative public manner. According to scientists who studied it, open-source software is a prominent example of open collaboration.\n"
     ]
    }
   ],
   "source": [
    "numberof_sentences = 3\n",
    "try:\n",
    "    for a in r.json()['query']['pages']:\n",
    "        cleaner = re.compile('<.*?>')\n",
    "        cleantext = re.sub(cleaner, '', r.json()['query']['pages'][a]['extract']).strip()\n",
    "        cleantext_shortened = '. '.join(cleantext.split('. ')[0:numberof_sentences]) + '.'\n",
    "        if cleantext_shortened != '.':\n",
    "            print(cleantext_shortened)\n",
    "        else:\n",
    "            print('Could not find page')\n",
    "        break\n",
    "except:\n",
    "    print('Error with JSON')"
   ]
  },
  {
   "cell_type": "code",
   "execution_count": null,
   "metadata": {},
   "outputs": [],
   "source": []
  }
 ],
 "metadata": {
  "kernelspec": {
   "display_name": "Python 3",
   "language": "python",
   "name": "python3"
  },
  "language_info": {
   "codemirror_mode": {
    "name": "ipython",
    "version": 3
   },
   "file_extension": ".py",
   "mimetype": "text/x-python",
   "name": "python",
   "nbconvert_exporter": "python",
   "pygments_lexer": "ipython3",
   "version": "3.6.4"
  }
 },
 "nbformat": 4,
 "nbformat_minor": 2
}
